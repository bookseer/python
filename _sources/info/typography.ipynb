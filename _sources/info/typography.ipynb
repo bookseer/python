{
 "cells": [
  {
   "cell_type": "markdown",
   "id": "bd3a7f46",
   "metadata": {},
   "source": [
    "# Типографские соглашения\n",
    "\n",
    "## Программный код\n",
    "\n",
    "Пример кода внутри строки, обозначается так: `echo \"Hello, World!\"`.\n",
    "\n",
    "Команда вводимая в терминал Unix подобных систем:\n",
    "```console\n",
    "$ echo \"Hello, World!\"\n",
    "```\n",
    "Символ **$** является приглашением командной строки. Его вводить не нужно.\n",
    "\n",
    "<!--\n",
    "Команда вводимая в командной строке Windows:\n",
    "```console\n",
    "c:\\> echo \"Hello, World!\"\n",
    "```\n",
    "Символы **c:\\\\>** являются приглашением командной строки. Их вводить не нужно.\n",
    "-->\n",
    "\n",
    "Команда вводимая в терминал Unix подобных систем вместе с выводом:"
   ]
  },
  {
   "cell_type": "code",
   "execution_count": 1,
   "id": "6701b1d5",
   "metadata": {},
   "outputs": [
    {
     "name": "stdout",
     "output_type": "stream",
     "text": [
      "Hello, World!\n"
     ]
    }
   ],
   "source": [
    "%%bash\n",
    "echo \"Hello, World!\""
   ]
  },
  {
   "cell_type": "markdown",
   "id": "c15d8783",
   "metadata": {},
   "source": [
    "Python код выглядит\n",
    "```python\n",
    "message = \"Hello, World!\"\n",
    "print(message)\n",
    "```\n",
    "\n",
    "А так — python код и результат его исполнения"
   ]
  },
  {
   "cell_type": "code",
   "execution_count": 2,
   "id": "f6a16b20",
   "metadata": {},
   "outputs": [
    {
     "name": "stdout",
     "output_type": "stream",
     "text": [
      "Hello, World!\n"
     ]
    }
   ],
   "source": [
    "message = \"Hello, World!\"\n",
    "print(message)"
   ]
  },
  {
   "cell_type": "markdown",
   "id": "2f83b9ee",
   "metadata": {},
   "source": [
    "## Графические выделения\n",
    "\n",
    "<!--\n",
    ":::{admonition} This is a title\n",
    ":class: note\n",
    ":class: warning\n",
    ":class: tip\n",
    ":class: caution\n",
    ":class: attention\n",
    ":class: danger\n",
    ":class: error\n",
    ":class: hint\n",
    ":class: important\n",
    ":class: seealso\n",
    "An example of an admonition with a title.\n",
    ":::\n",
    "-->\n",
    "\n",
    ":::{note}\n",
    "Так обозначаются замечания общего характера.\n",
    ":::\n",
    "\n",
    ":::{tip}\n",
    "Так обозначаются советы и рекомендации.\n",
    ":::\n",
    "\n",
    ":::{hint}\n",
    "Так обозначаются подсказки.\n",
    ":::\n",
    "\n",
    ":::{seealso}\n",
    "Так обозначаются ссылки на материал по теме.\n",
    ":::\n",
    "\n",
    ":::{attention}\n",
    "Материал, требующий особого внимания обозначается так.\n",
    ":::\n",
    "\n",
    ":::{warning}\n",
    "Так обозначаются предупреждения и предостережения.\n",
    ":::\n",
    "\n",
    ":::{error}\n",
    "Так обозначаются действия, которые могут привести к ошибке.\n",
    ":::\n",
    "\n",
    ":::{danger}\n",
    "Потенциально опасные действия, обозначаются так.\n",
    ":::"
   ]
  }
 ],
 "metadata": {
  "jupytext": {
   "formats": "md:myst",
   "text_representation": {
    "extension": ".md",
    "format_name": "myst"
   }
  },
  "kernelspec": {
   "display_name": "Python 3",
   "language": "python",
   "name": "python3"
  },
  "language_info": {
   "codemirror_mode": {
    "name": "ipython",
    "version": 3
   },
   "file_extension": ".py",
   "mimetype": "text/x-python",
   "name": "python",
   "nbconvert_exporter": "python",
   "pygments_lexer": "ipython3",
   "version": "3.11.11"
  },
  "source_map": [
   11,
   34,
   37,
   46,
   51
  ]
 },
 "nbformat": 4,
 "nbformat_minor": 5
}